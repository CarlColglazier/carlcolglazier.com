{
 "cells": [
  {
   "cell_type": "code",
   "execution_count": 1,
   "metadata": {},
   "outputs": [],
   "source": [
    "from selenium import webdriver\n",
    "from bs4 import BeautifulSoup\n",
    "import pandas as pd\n",
    "import itertools\n",
    "\n",
    "browser = webdriver.Firefox()"
   ]
  },
  {
   "cell_type": "code",
   "execution_count": 2,
   "metadata": {},
   "outputs": [],
   "source": [
    "def get_wfh_teams(year=2024, division=1):\n",
    "    url = f\"https://stats.ncaa.org/team/inst_team_list?academic_year={year}&division={division}&sport_code=WFH\"\n",
    "    browser.get(url)\n",
    "    source = browser.page_source\n",
    "    soup = BeautifulSoup(source)\n",
    "    teams = soup.find('table').find_all('a', href=True)\n",
    "    team_names = [a.text for a in teams]\n",
    "    team_links = [a['href'] for a in teams]\n",
    "    return team_names, team_links"
   ]
  },
  {
   "cell_type": "code",
   "execution_count": 3,
   "metadata": {},
   "outputs": [],
   "source": [
    "def format_goals(txt: str) -> int:\n",
    "    if len(txt) == 0:\n",
    "        return 0\n",
    "    return int(''.join([s for s in itertools.islice(txt, 0, None) if s.isdigit()]))"
   ]
  },
  {
   "cell_type": "code",
   "execution_count": 4,
   "metadata": {},
   "outputs": [],
   "source": [
    "def is_home(text):\n",
    "    if text.strip()[0] == '@':\n",
    "        return -1\n",
    "    elif '@' in text:\n",
    "        return 0\n",
    "    return 1"
   ]
  },
  {
   "cell_type": "code",
   "execution_count": 5,
   "metadata": {},
   "outputs": [],
   "source": [
    "def get_team_matches(url_end):\n",
    "    _, _, team_id, game_sport_year_ctl_id = url_end.split('/')\n",
    "    url = f\"https://stats.ncaa.org/player/game_by_game?game_sport_year_ctl_id={game_sport_year_ctl_id}&org_id={team_id}&stats_player_seq=-100\"\n",
    "    #print(url)\n",
    "    browser.get(url)\n",
    "    s = BeautifulSoup(browser.page_source)\n",
    "    soup = s.find('div', {'id': 'game_breakdown_div'}).find_all('table', attrs={'class': 'mytable'})[0]\n",
    "    date = [row.find_all('td')[0].text.strip() for row in soup.find_all('tr', attrs={'class': None})][::2]\n",
    "    opponent = [row.find_all('td')[1].find('a', attrs={'class': None}) for row in soup.find_all('tr', attrs={'class': None})][::2]\n",
    "    result = [row.find_all('td')[2].text.strip() for row in soup.find_all('tr', attrs={'class': None})][::2]\n",
    "    gf = [format_goals(row.find_all('td')[3].text.strip()) for row in soup.find_all('tr', attrs={'class': None})][::2]\n",
    "    ga = [format_goals(row.find_all('td')[3].text.strip()) for row in soup.find_all('tr', attrs={'class': None})][1::2]\n",
    "    time = [row.find_all('td')[13].text.strip() for row in soup.find_all('tr', attrs={'class': None})][1::2]\n",
    "    played = min(len(opponent), len(gf), len(ga), len(time))\n",
    "    return pd.DataFrame({\n",
    "        'team_id': team_id,\n",
    "        'date': date[0:played],\n",
    "        'opponent': [y['href'].split('/')[2] for y in opponent[0:played]],\n",
    "        'home': [is_home(y.text) for y in opponent[0:played]],\n",
    "        'result': result[0:played],\n",
    "        'gf': gf[0:played],\n",
    "        'ga': ga[0:played],\n",
    "        'time': time[0:played]\n",
    "    })"
   ]
  },
  {
   "cell_type": "code",
   "execution_count": 6,
   "metadata": {},
   "outputs": [],
   "source": [
    "def get_year_data(year=2024):\n",
    "    team_names, team_links = get_wfh_teams(year=year)\n",
    "    teams = pd.DataFrame({\n",
    "        'name': team_names,\n",
    "        'team_id': [x.split('/')[2] for x in team_links]\n",
    "    })\n",
    "    df = pd.concat(map(get_team_matches, team_links))\n",
    "    df.merge(teams, on='team_id', how='inner').to_feather(f\"data/matches_{year}.feather\", compression=\"zstd\")"
   ]
  },
  {
   "cell_type": "code",
   "execution_count": 7,
   "metadata": {},
   "outputs": [],
   "source": [
    "for year in [2022, 2023, 2024]:\n",
    "    get_year_data(year)"
   ]
  }
 ],
 "metadata": {
  "kernelspec": {
   "display_name": "Python 3",
   "language": "python",
   "name": "python3"
  },
  "language_info": {
   "codemirror_mode": {
    "name": "ipython",
    "version": 3
   },
   "file_extension": ".py",
   "mimetype": "text/x-python",
   "name": "python",
   "nbconvert_exporter": "python",
   "pygments_lexer": "ipython3",
   "version": "3.11.6"
  }
 },
 "nbformat": 4,
 "nbformat_minor": 2
}
